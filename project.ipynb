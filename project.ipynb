{
 "cells": [
  {
   "cell_type": "code",
   "execution_count": 28,
   "metadata": {},
   "outputs": [],
   "source": [
    "import numpy as np\n",
    "import math\n",
    "import cv2"
   ]
  },
  {
   "cell_type": "code",
   "execution_count": null,
   "metadata": {},
   "outputs": [],
   "source": [
    "# cap = cv2.VideoCapture(0)\n",
    "\n",
    "# while True:\n",
    "#     ret, frame = cap.read()\n",
    "#     if not ret:\n",
    "#         break\n",
    "\n",
    "#     # Convert frame to HSV for easier color detection\n",
    "#     hsv = cv2.cvtColor(frame, cv2.COLOR_BGR2RGB)\n",
    "\n",
    "#     # Define range of color to detect (e.g., blue)\n",
    "#     lower_blue = np.array([110,50,50])\n",
    "#     upper_blue = np.array([130,255,255])\n",
    "\n",
    "#     # Threshold the HSV image to get only blue colors\n",
    "#     mask = cv2.inRange(hsv, lower_blue, upper_blue)\n",
    "\n",
    "#     # Find contours of the detected object\n",
    "#     contours, _ = cv2.findContours(mask, cv2.RETR_TREE, cv2.CHAIN_APPROX_SIMPLE)\n",
    "\n",
    "#     for contour in contours:\n",
    "#         # Optionally filter out small objects\n",
    "#         area = cv2.contourArea(contour)\n",
    "#         if area > 500:\n",
    "#             # Calculate the center of the contour\n",
    "#             M = cv2.moments(contour)\n",
    "#             if M[\"m00\"] != 0:\n",
    "#                 cX = int(M[\"m10\"] / M[\"m00\"])\n",
    "#                 cY = int(M[\"m01\"] / M[\"m00\"])\n",
    "\n",
    "#                 # Mark the center on the frame\n",
    "#                 cv2.circle(frame, (cX, cY), 5, (255, 255, 255), -1)\n",
    "\n",
    "#     cv2.imshow('Frame', frame)\n",
    "\n",
    "#     if cv2.waitKey(1) & 0xFF == ord('q'):\n",
    "#         break\n",
    "\n",
    "# cap.release()\n",
    "# cv2.destroyAllWindows()"
   ]
  },
  {
   "cell_type": "code",
   "execution_count": null,
   "metadata": {},
   "outputs": [],
   "source": [
    "# P1 = [xr1, yr1, 0r1] \n",
    "# P2 = [xr2, yr2, 0r2] "
   ]
  },
  {
   "cell_type": "code",
   "execution_count": 29,
   "metadata": {},
   "outputs": [
    {
     "data": {
      "text/plain": [
       "array([[0., 0., 0., ..., 0., 0., 0.],\n",
       "       [0., 0., 0., ..., 0., 0., 0.],\n",
       "       [0., 0., 0., ..., 0., 0., 0.],\n",
       "       ...,\n",
       "       [0., 0., 0., ..., 0., 0., 0.],\n",
       "       [0., 0., 0., ..., 0., 0., 0.],\n",
       "       [0., 0., 0., ..., 0., 0., 0.]])"
      ]
     },
     "execution_count": 29,
     "metadata": {},
     "output_type": "execute_result"
    }
   ],
   "source": [
    "np.zeros((800, 400))"
   ]
  },
  {
   "cell_type": "code",
   "execution_count": 30,
   "metadata": {},
   "outputs": [],
   "source": [
    "robot1 = {\"front\":1, \"back\":2, \"f_rgb\": [136, 0, 20], \"b_rgb\": [3, 161, 234]}\n",
    "robot2 = {\"front\":3, \"back\":4, \"f_rgb\": [23, 255, 22], \"b_rgb\": [163, 73, 164]}\n",
    "ball = {\"center\":5, \"rgb\": [254, 242, 0]}"
   ]
  },
  {
   "cell_type": "code",
   "execution_count": 31,
   "metadata": {},
   "outputs": [],
   "source": [
    "robots = {\n",
    "    \"robot1\": robot1,\n",
    "    \"robot2\": robot2\n",
    "}"
   ]
  },
  {
   "cell_type": "code",
   "execution_count": 32,
   "metadata": {},
   "outputs": [],
   "source": [
    "\n",
    "def detect_colored_dots_in_rgb(image, color_lower, color_upper):\n",
    "    \"\"\"\n",
    "    Detects dots of a specific color in an image using RGB color space.\n",
    "\n",
    "    :param image: The image to search in.\n",
    "    :param color_lower: The lower bound of the color range in RGB.\n",
    "    :param color_upper: The upper bound of the color range in RGB.\n",
    "    :return: List of coordinates of detected dots.\n",
    "    \"\"\"\n",
    "    image = cv2.cvtColor(image, cv2.COLOR_BGR2RGB)\n",
    "    mask = cv2.inRange(image, color_lower, color_upper)\n",
    "    contours, _ = cv2.findContours(mask, cv2.RETR_TREE, cv2.CHAIN_APPROX_SIMPLE)\n",
    "\n",
    "    coordinates = []\n",
    "    for contour in contours:\n",
    "        M = cv2.moments(contour)\n",
    "        if M['m00'] != 0:\n",
    "            cx = int(M['m10']/M['m00'])\n",
    "            cy = int(M['m01']/M['m00'])\n",
    "            coordinates.append((cx, cy))\n",
    "\n",
    "    return coordinates\n",
    "\n",
    "# Example usage\n",
    "# Load or capture an image\n",
    "image = cv2.imread('Untitled.jpg')  # Replace with your image path\n",
    "\n",
    "\n",
    "color_tolerance = 20\n",
    "\n"
   ]
  },
  {
   "cell_type": "code",
   "execution_count": 34,
   "metadata": {},
   "outputs": [],
   "source": [
    "matrix = np.zeros((image.shape[0], image.shape[1]), dtype=np.uint8)\n",
    "\n",
    "# Process each robot's front and back points\n",
    "for robot, details in robots.items():\n",
    "    # Detect front points\n",
    "    f_lower_bound = np.array(details['f_rgb']) - color_tolerance\n",
    "    f_upper_bound = np.array(details['f_rgb']) + color_tolerance\n",
    "    front_coordinates = detect_colored_dots_in_rgb(image, f_lower_bound, f_upper_bound)\n",
    "    \n",
    "    # Mark front points on the matrix\n",
    "    for coord in front_coordinates:\n",
    "        matrix[coord[1], coord[0]] = details['front']\n",
    "    \n",
    "    # Detect back points\n",
    "    b_lower_bound = np.array(details['b_rgb']) - color_tolerance\n",
    "    b_upper_bound = np.array(details['b_rgb']) + color_tolerance\n",
    "    back_coordinates = detect_colored_dots_in_rgb(image, b_lower_bound, b_upper_bound)\n",
    "    \n",
    "    # Mark back points on the matrix\n",
    "    for coord in back_coordinates:\n",
    "        matrix[coord[1], coord[0]] = details['back']"
   ]
  },
  {
   "cell_type": "code",
   "execution_count": 37,
   "metadata": {},
   "outputs": [],
   "source": [
    "#Detect ball\n",
    "lower_bound = np.array(ball['rgb']) - color_tolerance\n",
    "upper_bound = np.array(ball['rgb']) + color_tolerance\n",
    "ball_coordinates = detect_colored_dots_in_rgb(image, lower_bound, upper_bound)\n",
    "\n",
    "#Mark ball points on the matrix\n",
    "for coord in ball_coordinates:\n",
    "    matrix[coord[1], coord[0]] = ball['center']"
   ]
  },
  {
   "cell_type": "code",
   "execution_count": 38,
   "metadata": {},
   "outputs": [],
   "source": [
    "def find_coordinates(matrix, value):\n",
    "    \"\"\"Find the coordinates of a given value in the matrix.\"\"\"\n",
    "    coordinates = np.argwhere(matrix == value)\n",
    "    if coordinates.size > 0:\n",
    "        return coordinates[0]  # Assuming only one occurrence\n",
    "    return None\n",
    "\n",
    "def calculate_robot_position_and_orientation(matrix, front_val, back_val):\n",
    "    \"\"\"\n",
    "    Calculate the position (x, y) and orientation (theta) of a robot.\n",
    "    :param matrix: 2D numpy array representing the environment.\n",
    "    :param front_val: Integer representing the front of the robot in the matrix.\n",
    "    :param back_val: Integer representing the back of the robot in the matrix.\n",
    "    :return: Tuple (x, y, theta) where theta is in degrees.\n",
    "    \"\"\"\n",
    "    # Find coordinates of the front and back\n",
    "    front_coords = find_coordinates(matrix, front_val)\n",
    "    back_coords = find_coordinates(matrix, back_val)\n",
    "\n",
    "    if front_coords is not None and back_coords is not None:\n",
    "        # Calculate (x, y)\n",
    "        x = back_coords[0]\n",
    "        y = back_coords[1]\n",
    "        # Calculate orientation theta\n",
    "        theta = np.arctan2(front_coords[1] - back_coords[1], front_coords[0] - back_coords[0])\n",
    "        theta_degrees = np.degrees(theta)\n",
    "\n",
    "        return x, y, theta_degrees\n",
    "    else:\n",
    "        return None, None, None\n",
    "    \n",
    "    \n",
    "\n"
   ]
  },
  {
   "cell_type": "code",
   "execution_count": 51,
   "metadata": {},
   "outputs": [
    {
     "data": {
      "text/plain": [
       "(397, 408)"
      ]
     },
     "execution_count": 51,
     "metadata": {},
     "output_type": "execute_result"
    }
   ],
   "source": [
    "# Find coordinates of the front and back\n",
    "ball_coords = find_coordinates(matrix, 5)\n",
    "ball_coords[0], ball_coords[1]"
   ]
  },
  {
   "cell_type": "code",
   "execution_count": 39,
   "metadata": {},
   "outputs": [
    {
     "data": {
      "text/plain": [
       "(175, 251, -122.99770510121628)"
      ]
     },
     "execution_count": 39,
     "metadata": {},
     "output_type": "execute_result"
    }
   ],
   "source": [
    "r1x, r1y, r1orientation = calculate_robot_position_and_orientation(matrix, robot1.get(\"front\"), robot1.get(\"back\"))\n",
    "r1x, r1y, r1orientation"
   ]
  },
  {
   "cell_type": "code",
   "execution_count": 40,
   "metadata": {},
   "outputs": [
    {
     "data": {
      "text/plain": [
       "(186, 583, 94.72798781884221)"
      ]
     },
     "execution_count": 40,
     "metadata": {},
     "output_type": "execute_result"
    }
   ],
   "source": [
    "r2x, r2y, r2orientation = calculate_robot_position_and_orientation(matrix, robot2.get(\"front\"), robot2.get(\"back\"))\n",
    "r2x, r2y, r2orientation"
   ]
  },
  {
   "cell_type": "code",
   "execution_count": 52,
   "metadata": {},
   "outputs": [],
   "source": [
    "distance_x = ball_coords[0] - r1x\n",
    "distance_y = ball_coords[1] - r1y\n",
    "distance = math.sqrt(distance_x ** 2 + distance_y ** 2)\n",
    "\n",
    "target_angle = math.atan2(distance_y, distance_x)\n",
    "angle_diff = math.degrees(target_angle - math.radians(r1orientation))"
   ]
  },
  {
   "cell_type": "code",
   "execution_count": 54,
   "metadata": {},
   "outputs": [
    {
     "data": {
      "text/plain": [
       "(158.2659305937978, 271.9062338380641)"
      ]
     },
     "execution_count": 54,
     "metadata": {},
     "output_type": "execute_result"
    }
   ],
   "source": [
    "angle_diff, distance"
   ]
  },
  {
   "cell_type": "code",
   "execution_count": 43,
   "metadata": {},
   "outputs": [
    {
     "data": {
      "text/plain": [
       "array([[0, 0, 0, ..., 0, 0, 0],\n",
       "       [0, 0, 0, ..., 0, 0, 0],\n",
       "       [0, 0, 0, ..., 0, 0, 0],\n",
       "       ...,\n",
       "       [0, 0, 0, ..., 0, 0, 0],\n",
       "       [0, 0, 0, ..., 0, 0, 0],\n",
       "       [0, 0, 0, ..., 0, 0, 0]], dtype=uint8)"
      ]
     },
     "execution_count": 43,
     "metadata": {},
     "output_type": "execute_result"
    }
   ],
   "source": [
    "matrix"
   ]
  },
  {
   "cell_type": "code",
   "execution_count": null,
   "metadata": {},
   "outputs": [],
   "source": []
  }
 ],
 "metadata": {
  "kernelspec": {
   "display_name": "env",
   "language": "python",
   "name": "python3"
  },
  "language_info": {
   "codemirror_mode": {
    "name": "ipython",
    "version": 3
   },
   "file_extension": ".py",
   "mimetype": "text/x-python",
   "name": "python",
   "nbconvert_exporter": "python",
   "pygments_lexer": "ipython3",
   "version": "3.12.0"
  }
 },
 "nbformat": 4,
 "nbformat_minor": 2
}
