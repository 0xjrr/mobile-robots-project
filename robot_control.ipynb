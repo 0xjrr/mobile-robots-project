{
 "cells": [
  {
   "cell_type": "code",
   "execution_count": null,
   "metadata": {},
   "outputs": [],
   "source": [
    "import cv2\n",
    "import numpy as np\n",
    "from matplotlib import pyplot as plt\n",
    "\n",
    "\n",
    "\n",
    "# Define range of color in HSV\n",
    "lower_range = np.array([103, 196, 130])\n",
    "upper_range = np.array([110, 255, 224])\n",
    "\n",
    "# Threshold the HSV image to get only the specified colors\n",
    "mask = cv2.inRange(hsv_image, lower_range, upper_range)\n",
    "\n",
    "# Bitwise-AND mask and original image\n",
    "result = cv2.bitwise_and(image, image, mask=mask)\n",
    "\n",
    "# Convert to RGB for displaying using matplotlib\n",
    "result_rgb = cv2.cvtColor(result, cv2.COLOR_BGR2RGB)\n",
    "hsv_image_rgb = cv2.cvtColor(hsv_image, cv2.COLOR_HSV2RGB)\n",
    "\n",
    "# Display the original and the result side by side\n",
    "plt.figure(figsize=(10, 5))\n",
    "\n",
    "plt.subplot(1, 2, 1)\n",
    "plt.imshow(hsv_image_rgb)\n",
    "plt.title('Original Image in HSV')\n",
    "\n",
    "plt.subplot(1, 2, 2)\n",
    "plt.imshow(result_rgb)\n",
    "plt.title('Object within Range')\n",
    "\n",
    "plt.show()\n"
   ]
  }
 ],
 "metadata": {
  "language_info": {
   "name": "python"
  }
 },
 "nbformat": 4,
 "nbformat_minor": 2
}
