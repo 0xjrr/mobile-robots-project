{
 "cells": [
  {
   "cell_type": "code",
   "execution_count": 1,
   "metadata": {},
   "outputs": [],
   "source": [
    "import numpy as np\n",
    "import math\n",
    "import cv2\n",
    "import tdmclient.notebook\n"
   ]
  },
  {
   "cell_type": "code",
   "execution_count": 2,
   "metadata": {},
   "outputs": [],
   "source": [
    "await tdmclient.notebook.start(tdm_addr='172.25.112.1', tdm_port=8596)"
   ]
  },
  {
   "cell_type": "code",
   "execution_count": 4,
   "metadata": {},
   "outputs": [],
   "source": [
    "# await tdmclient.notebook.stop()"
   ]
  },
  {
   "cell_type": "code",
   "execution_count": 3,
   "metadata": {},
   "outputs": [
    {
     "ename": "Exception",
     "evalue": "run is not a known event, do you mean rc5?",
     "output_type": "error",
     "traceback": [
      "\u001b[0;31m---------------------------------------------------------------------------\u001b[0m",
      "\u001b[0;31mException\u001b[0m                                 Traceback (most recent call last)",
      "\u001b[1;32m/home/xjrr/fcul/MobRobots/project/mobile-robots-project/thymio_control.ipynb Cell 3\u001b[0m line \u001b[0;36m1\n\u001b[0;32m----> <a href='vscode-notebook-cell://wsl%2Bubuntu/home/xjrr/fcul/MobRobots/project/mobile-robots-project/thymio_control.ipynb#W1sdnNjb2RlLXJlbW90ZQ%3D%3D?line=0'>1</a>\u001b[0m get_ipython()\u001b[39m.\u001b[39;49mrun_cell_magic(\u001b[39m'\u001b[39;49m\u001b[39mrun_aseba\u001b[39;49m\u001b[39m'\u001b[39;49m, \u001b[39m'\u001b[39;49m\u001b[39m'\u001b[39;49m, \u001b[39m'\u001b[39;49m\u001b[39monevent run\u001b[39;49m\u001b[39m\\n\u001b[39;49;00m\u001b[39m    motor.target.left = 300\u001b[39;49m\u001b[39m\\n\u001b[39;49;00m\u001b[39m    motor.target.right = 300\u001b[39;49m\u001b[39m\\n\u001b[39;49;00m\u001b[39m\\n\u001b[39;49;00m\u001b[39monevent turnleft\u001b[39;49m\u001b[39m\\n\u001b[39;49;00m\u001b[39m    motor.target.left = -300\u001b[39;49m\u001b[39m\\n\u001b[39;49;00m\u001b[39m    motor.target.right = 300\u001b[39;49m\u001b[39m\\n\u001b[39;49;00m\u001b[39m\\n\u001b[39;49;00m\u001b[39monevent turnright\u001b[39;49m\u001b[39m\\n\u001b[39;49;00m\u001b[39m    motor.target.left = 300\u001b[39;49m\u001b[39m\\n\u001b[39;49;00m\u001b[39m    motor.target.right = -300\u001b[39;49m\u001b[39m\\n\u001b[39;49;00m\u001b[39m\\n\u001b[39;49;00m\u001b[39monevent stop\u001b[39;49m\u001b[39m\\n\u001b[39;49;00m\u001b[39m    motor.target.left = 0\u001b[39;49m\u001b[39m\\n\u001b[39;49;00m\u001b[39m    motor.target.right = 0\u001b[39;49m\u001b[39m\\n\u001b[39;49;00m\u001b[39m'\u001b[39;49m)\n",
      "File \u001b[0;32m~/fcul/MobRobots/project/mobile-robots-project/env/lib/python3.11/site-packages/IPython/core/interactiveshell.py:2517\u001b[0m, in \u001b[0;36mInteractiveShell.run_cell_magic\u001b[0;34m(self, magic_name, line, cell)\u001b[0m\n\u001b[1;32m   2515\u001b[0m \u001b[39mwith\u001b[39;00m \u001b[39mself\u001b[39m\u001b[39m.\u001b[39mbuiltin_trap:\n\u001b[1;32m   2516\u001b[0m     args \u001b[39m=\u001b[39m (magic_arg_s, cell)\n\u001b[0;32m-> 2517\u001b[0m     result \u001b[39m=\u001b[39m fn(\u001b[39m*\u001b[39;49margs, \u001b[39m*\u001b[39;49m\u001b[39m*\u001b[39;49mkwargs)\n\u001b[1;32m   2519\u001b[0m \u001b[39m# The code below prevents the output from being displayed\u001b[39;00m\n\u001b[1;32m   2520\u001b[0m \u001b[39m# when using magics with decorator @output_can_be_silenced\u001b[39;00m\n\u001b[1;32m   2521\u001b[0m \u001b[39m# when the last Python token in the expression is a ';'.\u001b[39;00m\n\u001b[1;32m   2522\u001b[0m \u001b[39mif\u001b[39;00m \u001b[39mgetattr\u001b[39m(fn, magic\u001b[39m.\u001b[39mMAGIC_OUTPUT_CAN_BE_SILENCED, \u001b[39mFalse\u001b[39;00m):\n",
      "File \u001b[0;32m~/fcul/MobRobots/project/mobile-robots-project/env/lib/python3.11/site-packages/tdmclient/notebook/private.py:445\u001b[0m, in \u001b[0;36mrun_aseba\u001b[0;34m(line, cell)\u001b[0m\n\u001b[1;32m    442\u001b[0m     \u001b[39mprint\u001b[39m(\u001b[39mf\u001b[39m\u001b[39m\"\u001b[39m\u001b[39mUnexpected argument \u001b[39m\u001b[39m{\u001b[39;00mvalues[\u001b[39m0\u001b[39m]\u001b[39m}\u001b[39;00m\u001b[39m\"\u001b[39m, file\u001b[39m=\u001b[39msys\u001b[39m.\u001b[39mstderr)\n\u001b[1;32m    443\u001b[0m     \u001b[39mreturn\u001b[39;00m\n\u001b[0;32m--> 445\u001b[0m _interactive_console\u001b[39m.\u001b[39;49mrun_program(aseba_preamble \u001b[39m+\u001b[39;49m cell,\n\u001b[1;32m    446\u001b[0m                                  nodes \u001b[39m=\u001b[39;49m nodes \u001b[39mif\u001b[39;49;00m \u001b[39mlen\u001b[39;49m(nodes) \u001b[39m>\u001b[39;49m \u001b[39m0\u001b[39;49m \u001b[39melse\u001b[39;49;00m \u001b[39mNone\u001b[39;49;00m,\n\u001b[1;32m    447\u001b[0m                                  language\u001b[39m=\u001b[39;49m\u001b[39m\"\u001b[39;49m\u001b[39maseba\u001b[39;49m\u001b[39m\"\u001b[39;49m)\n",
      "File \u001b[0;32m~/fcul/MobRobots/project/mobile-robots-project/env/lib/python3.11/site-packages/tdmclient/repl.py:560\u001b[0m, in \u001b[0;36mTDMConsole.run_program\u001b[0;34m(self, src, nodes, language, warning_missing_global, wait, import_thymio)\u001b[0m\n\u001b[1;32m    557\u001b[0m \u001b[39mwith\u001b[39;00m \u001b[39mself\u001b[39m\u001b[39m.\u001b[39mlock_robots(nodes) \u001b[39mas\u001b[39;00m nodes_l:\n\u001b[1;32m    558\u001b[0m     \u001b[39m# transpile, compile, load, set scratchpad, and run\u001b[39;00m\n\u001b[1;32m    559\u001b[0m     \u001b[39mfor\u001b[39;00m node \u001b[39min\u001b[39;00m nodes_l:\n\u001b[0;32m--> 560\u001b[0m         wait_for_node \u001b[39m=\u001b[39m run_node(node)\n\u001b[1;32m    561\u001b[0m         wait_for_nodes \u001b[39m=\u001b[39m wait_for_nodes \u001b[39mor\u001b[39;00m wait_for_node\n\u001b[1;32m    562\u001b[0m         running_nodes\u001b[39m.\u001b[39madd(node)\n",
      "File \u001b[0;32m~/fcul/MobRobots/project/mobile-robots-project/env/lib/python3.11/site-packages/tdmclient/repl.py:539\u001b[0m, in \u001b[0;36mTDMConsole.run_program.<locals>.run_node\u001b[0;34m(node)\u001b[0m\n\u001b[1;32m    537\u001b[0m error \u001b[39m=\u001b[39m ClientAsync\u001b[39m.\u001b[39maw(node\u001b[39m.\u001b[39mcompile(src_aseba))\n\u001b[1;32m    538\u001b[0m \u001b[39mif\u001b[39;00m error \u001b[39mis\u001b[39;00m \u001b[39mnot\u001b[39;00m \u001b[39mNone\u001b[39;00m:\n\u001b[0;32m--> 539\u001b[0m     \u001b[39mraise\u001b[39;00m \u001b[39mException\u001b[39;00m(error[\u001b[39m\"\u001b[39m\u001b[39merror_msg\u001b[39m\u001b[39m\"\u001b[39m])\n\u001b[1;32m    540\u001b[0m node\u001b[39m.\u001b[39msend_set_scratchpad(src_aseba)\n\u001b[1;32m    541\u001b[0m wait_for_node \u001b[39m=\u001b[39m wait\n",
      "\u001b[0;31mException\u001b[0m: run is not a known event, do you mean rc5?"
     ]
    }
   ],
   "source": [
    "%%run_aseba\n",
    "onevent run\n",
    "    motor.target.left = 300\n",
    "    motor.target.right = 300\n",
    "\n",
    "onevent turnleft\n",
    "    motor.target.left = -300\n",
    "    motor.target.right = 300\n",
    "\n",
    "onevent turnright\n",
    "    motor.target.left = 300\n",
    "    motor.target.right = -300\n",
    "\n",
    "onevent stop\n",
    "    motor.target.left = 0\n",
    "    motor.target.right = 0"
   ]
  },
  {
   "cell_type": "markdown",
   "metadata": {},
   "source": [
    "Define possible objects and marker colors"
   ]
  },
  {
   "cell_type": "code",
   "execution_count": null,
   "metadata": {},
   "outputs": [],
   "source": [
    "robot1 = {\"front\":1, \"back\":2, \"f_rgb\": [136, 0, 20], \"b_rgb\": [3, 161, 234]}\n",
    "robot2 = {\"front\":3, \"back\":4, \"f_rgb\": [23, 255, 22], \"b_rgb\": [163, 73, 164]}\n",
    "ball = {\"center\":5, \"rgb\": [254, 242, 0]}"
   ]
  },
  {
   "cell_type": "markdown",
   "metadata": {},
   "source": [
    "Define what robots are in the game"
   ]
  },
  {
   "cell_type": "code",
   "execution_count": null,
   "metadata": {},
   "outputs": [],
   "source": [
    "robots = {\n",
    "    \"robot1\": robot1,\n",
    "    \"robot2\": robot2\n",
    "}\n",
    "color_tolerance = 20"
   ]
  },
  {
   "cell_type": "code",
   "execution_count": null,
   "metadata": {},
   "outputs": [],
   "source": [
    "cap = cv2.VideoCapture(0)"
   ]
  },
  {
   "cell_type": "code",
   "execution_count": null,
   "metadata": {},
   "outputs": [],
   "source": []
  }
 ],
 "metadata": {
  "kernelspec": {
   "display_name": "env",
   "language": "python",
   "name": "python3"
  },
  "language_info": {
   "codemirror_mode": {
    "name": "ipython",
    "version": 3
   },
   "file_extension": ".py",
   "mimetype": "text/x-python",
   "name": "python",
   "nbconvert_exporter": "python",
   "pygments_lexer": "ipython3",
   "version": "3.11.6"
  }
 },
 "nbformat": 4,
 "nbformat_minor": 2
}
