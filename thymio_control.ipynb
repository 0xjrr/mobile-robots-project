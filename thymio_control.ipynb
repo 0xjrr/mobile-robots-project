{
 "cells": [
  {
   "cell_type": "code",
   "execution_count": 1,
   "metadata": {},
   "outputs": [],
   "source": [
    "import numpy as np\n",
    "import math\n",
    "import cv2\n",
    "import tdmclient.notebook\n",
    "import utils"
   ]
  },
  {
   "cell_type": "code",
   "execution_count": 2,
   "metadata": {},
   "outputs": [],
   "source": [
    "# await tdmclient.notebook.start(tdm_addr='172.25.112.1', tdm_port=8596)"
   ]
  },
  {
   "cell_type": "code",
   "execution_count": 3,
   "metadata": {},
   "outputs": [],
   "source": [
    "# await tdmclient.notebook.stop()"
   ]
  },
  {
   "cell_type": "code",
   "execution_count": 4,
   "metadata": {},
   "outputs": [],
   "source": [
    "# %%run_aseba\n",
    "# onevent run\n",
    "#     motor.left.target = 300\n",
    "#     motor.right.target = 300\n",
    "\n",
    "# onevent turnleft\n",
    "#     motor.left.target = -300\n",
    "#     motor.right.target = 300\n",
    "\n",
    "# onevent turnright\n",
    "#     motor.left.target = 300\n",
    "#     motor.right.target = -300\n",
    "\n",
    "# onevent stop\n",
    "#     motor.left.target = 0\n",
    "#     motor.right.target = 0"
   ]
  },
  {
   "cell_type": "markdown",
   "metadata": {},
   "source": [
    "Define possible objects and marker colors"
   ]
  },
  {
   "cell_type": "code",
   "execution_count": 5,
   "metadata": {},
   "outputs": [],
   "source": [
    "robot1 = {\"front\":1, \"back\":2, \"f_rgb\": [136, 0, 20], \"b_rgb\": [3, 161, 234], \"front_loc\":(), \"back_loc\":()}\n",
    "robot2 = {\"front\":3, \"back\":4, \"f_rgb\": [23, 255, 22], \"b_rgb\": [163, 73, 164], \"front_loc\":(), \"back_loc\":()}\n",
    "ball = {\"center\":5, \"rgb\": [254, 242, 0], \"loc\":()}\n",
    "goal1 = {\"center\": 7, \"rgb\": [100, 100, 100], \"loc\":()}\n",
    "goal2 = {\"center\": 6, \"rgb\": [195, 195, 195], \"loc\":()}"
   ]
  },
  {
   "cell_type": "code",
   "execution_count": 6,
   "metadata": {},
   "outputs": [],
   "source": [
    "field = {\n",
    "    \"ball\": ball,\n",
    "    \"goal1\": goal1,\n",
    "    \"goal2\": goal2,\n",
    "}"
   ]
  },
  {
   "cell_type": "markdown",
   "metadata": {},
   "source": [
    "Define what robots are in the game"
   ]
  },
  {
   "cell_type": "code",
   "execution_count": 7,
   "metadata": {},
   "outputs": [],
   "source": [
    "robots = {\n",
    "    \"robot1\": robot1,\n",
    "    \"robot2\": robot2\n",
    "}\n"
   ]
  },
  {
   "cell_type": "markdown",
   "metadata": {},
   "source": [
    "Variables"
   ]
  },
  {
   "cell_type": "code",
   "execution_count": 8,
   "metadata": {},
   "outputs": [],
   "source": [
    "COLOR_TOLERANCE: int = 20\n",
    "DIST_BALL: int = 10"
   ]
  },
  {
   "cell_type": "code",
   "execution_count": 9,
   "metadata": {},
   "outputs": [
    {
     "name": "stderr",
     "output_type": "stream",
     "text": [
      "[ WARN:0@0.120] global cap_v4l.cpp:982 open VIDEOIO(V4L2:/dev/video0): can't open camera by index\n",
      "[ERROR:0@0.120] global obsensor_uvc_stream_channel.cpp:156 getStreamChannelGroup Camera index out of range\n"
     ]
    }
   ],
   "source": [
    "cap = cv2.VideoCapture(0)"
   ]
  },
  {
   "cell_type": "code",
   "execution_count": 10,
   "metadata": {},
   "outputs": [],
   "source": [
    "while True:\n",
    "    ret, frame = cap.read()\n",
    "    if not ret:\n",
    "        break\n",
    "    image = cv2.cvtColor(frame, cv2.COLOR_BGR2RGB)\n",
    "    matrix = np.zeros((image.shape[0], image.shape[1]), dtype=np.uint8)\n",
    "\n",
    "    cv2.imshow('real_frame', frame)\n",
    "    # Process each robot's front and back points\n",
    "    for robot, details in robots.items():\n",
    "        # Detect front points\n",
    "        f_lower_bound = np.clip(np.array(details['f_rgb']) - COLOR_TOLERANCE, 0, 255)\n",
    "        f_upper_bound = np.clip(np.array(details['f_rgb']) + COLOR_TOLERANCE, 0, 255)\n",
    "        front_coordinates = utils.detect_colored_dots_in_rgb(image, f_lower_bound, f_upper_bound)\n",
    "        robots[robot][\"front_loc\"] = utils.safe_get(front_coordinates, 0, [])\n",
    "        print(robot, f_lower_bound, f_upper_bound, front_coordinates)\n",
    "        # Mark front points on the matrix\n",
    "        for coord in front_coordinates:\n",
    "            matrix[coord[0], coord[1]] = details['front']\n",
    "            print(robot, coord[0], coord[1], details['front'])\n",
    "        \n",
    "        # Detect back points\n",
    "        b_lower_bound = np.clip(np.array(details['b_rgb']) - COLOR_TOLERANCE, 0, 255)\n",
    "        b_upper_bound = np.clip(np.array(details['b_rgb']) + COLOR_TOLERANCE, 0, 255)\n",
    "        back_coordinates = utils.detect_colored_dots_in_rgb(image, b_lower_bound, b_upper_bound)\n",
    "        robots[robot][\"back_loc\"] = utils.safe_get(back_coordinates, 0, [])\n",
    "        print(robot, b_lower_bound, b_upper_bound, back_coordinates)\n",
    "        # Mark back points on the matrix\n",
    "        for coord in back_coordinates:\n",
    "            matrix[coord[0], coord[1]] = details['back']\n",
    "            print(robot, coord[0], coord[1], details['back'])\n",
    "        \n",
    "\n",
    "\n",
    "    # Find the coordinates of goals and ball\n",
    "    for feature, details in field.items():\n",
    "        lower_bound = np.clip(np.array(details['rgb']) - COLOR_TOLERANCE, 0, 255)\n",
    "        upper_bound = np.clip(np.array(details['rgb']) + COLOR_TOLERANCE, 0, 255)\n",
    "        coordinates = utils.detect_colored_dots_in_rgb(image, lower_bound, upper_bound)\n",
    "        field[feature][\"loc\"] = utils.safe_get(coordinates, 0, [])\n",
    "        print(feature, lower_bound, upper_bound, coordinates)\n",
    "        for coord in coordinates:\n",
    "            matrix[coord[0], coord[1]] = details['center']\n",
    "            print(feature, coord[0], coord[1], details['center'])\n",
    "    \n",
    "\n",
    "    #___________________________________________________________TEST_PART______________________________________\n",
    "\n",
    "    color_map = {\n",
    "        0: (0, 0, 0),       # Black (assuming 0 is the background or no dot)\n",
    "        1: (255, 0, 0),     # Red\n",
    "        2: (0, 255, 0),     # Green\n",
    "        3: (0, 0, 255),     # Blue\n",
    "        4: (255, 255, 0),   # Cyan\n",
    "        5: (255, 0, 255),   # Magenta\n",
    "        6: (0, 255, 255),   # Yellow\n",
    "        7: (255, 255, 255)  # White\n",
    "    }\n",
    "\n",
    "    # Create an empty frame with 3 color channels\n",
    "    colored_frame = np.zeros((matrix.shape[0], matrix.shape[1], 3), dtype=np.uint8)\n",
    "\n",
    "    # Draw colored circles in the frame based on matrix values\n",
    "    for y in range(matrix.shape[0]):\n",
    "        for x in range(matrix.shape[1]):\n",
    "            value = matrix[y, x]\n",
    "            if value in color_map:\n",
    "                cv2.circle(colored_frame, (x, y), 10, color_map[value], 14)  # Circle with radius 10\n",
    "    \n",
    "    shoot_x, shoot_y = utils.ball_shooting_point(field[\"ball\"][\"loc\"], field[\"goal2\"][\"loc\"], DIST_BALL)\n",
    "    print(shoot_x, shoot_y)\n",
    "    print(field[\"goal2\"][\"loc\"])\n",
    "    cv2.line(colored_frame, (shoot_x, shoot_y)[::-1], field[\"goal2\"][\"loc\"][::-1], (255, 255, 255))\n",
    "\n",
    "    colored_frame = cv2.cvtColor(colored_frame, cv2.COLOR_RGB2BGR)\n",
    "    # Display the frame\n",
    "    cv2.imshow('Frame', colored_frame)\n",
    "\n",
    "    # Wait for 'q' key to quit\n",
    "    \n",
    "    if cv2.waitKey(1) & 0xFF == ord('q'):\n",
    "        break\n",
    "    #___________________________________________________________TEST_PART______________________________________\n",
    "    \n",
    "\n",
    "cv2.destroyAllWindows()"
   ]
  },
  {
   "cell_type": "code",
   "execution_count": 11,
   "metadata": {},
   "outputs": [],
   "source": [
    "cap.release()"
   ]
  },
  {
   "cell_type": "code",
   "execution_count": null,
   "metadata": {},
   "outputs": [],
   "source": []
  },
  {
   "cell_type": "code",
   "execution_count": null,
   "metadata": {},
   "outputs": [],
   "source": []
  }
 ],
 "metadata": {
  "kernelspec": {
   "display_name": "env",
   "language": "python",
   "name": "python3"
  },
  "language_info": {
   "codemirror_mode": {
    "name": "ipython",
    "version": 3
   },
   "file_extension": ".py",
   "mimetype": "text/x-python",
   "name": "python",
   "nbconvert_exporter": "python",
   "pygments_lexer": "ipython3",
   "version": "3.11.6"
  }
 },
 "nbformat": 4,
 "nbformat_minor": 2
}
