{
 "cells": [
  {
   "cell_type": "code",
   "execution_count": null,
   "metadata": {},
   "outputs": [],
   "source": [
    "import numpy as np\n",
    "import math\n",
    "import cv2\n",
    "import tdmclient.notebook\n",
    "import utils"
   ]
  },
  {
   "cell_type": "code",
   "execution_count": null,
   "metadata": {},
   "outputs": [],
   "source": []
  },
  {
   "cell_type": "code",
   "execution_count": null,
   "metadata": {},
   "outputs": [],
   "source": [
    "await tdmclient.notebook.start()"
   ]
  },
  {
   "cell_type": "code",
   "execution_count": null,
   "metadata": {},
   "outputs": [],
   "source": [
    "# await tdmclient.notebook.stop()"
   ]
  },
  {
   "cell_type": "code",
   "execution_count": null,
   "metadata": {},
   "outputs": [],
   "source": [
    "# %%run_aseba\n",
    "# onevent run\n",
    "#     motor.left.target = 300\n",
    "#     motor.right.target = 300\n",
    "\n",
    "# onevent turnleft\n",
    "#     motor.left.target = -300\n",
    "#     motor.right.target = 300\n",
    "\n",
    "# onevent turnright\n",
    "#     motor.left.target = 300\n",
    "#     motor.right.target = -300\n",
    "\n",
    "# onevent stop\n",
    "#     motor.left.target = 0\n",
    "#     motor.right.target = 0"
   ]
  },
  {
   "cell_type": "markdown",
   "metadata": {},
   "source": [
    "Define possible objects and marker colors"
   ]
  },
  {
   "cell_type": "code",
   "execution_count": null,
   "metadata": {},
   "outputs": [],
   "source": [
    "ball_blue = [[103, 196, 130], [110, 255, 224]]\n",
    "red = [[0, 106, 180], [9, 196, 229]]\n",
    "brown = [[10, 61, 123], [16, 198, 167]]\n",
    "green = [[31, 78, 114], [65, 199, 193]]\n",
    "yellow = [[23, 170, 154], [31, 255, 248]]\n",
    "blue = [[75, 116, 167], [100, 255, 255]]"
   ]
  },
  {
   "cell_type": "code",
   "execution_count": null,
   "metadata": {},
   "outputs": [],
   "source": [
    "\n",
    "robot1 = {\"front\":1, \"back\":2, \"f_hsv\": red, \"b_hsv\": green, \"front_loc\":(), \"back_loc\":()}\n",
    "# robot2 = {\"front\":3, \"back\":4, \"f_hsv\": [[], []], \"b_hsv\": [[], []], \"front_loc\":(), \"back_loc\":()}\n",
    "ball = {\"center\":5, \"hsv\": ball_blue, \"loc\":()}\n",
    "goal1 = {\"center\": 7, \"hsv\": yellow, \"loc\":()}\n",
    "goal2 = {\"center\": 6, \"hsv\": blue, \"loc\":()}\n",
    "stadium = {\"top_left_hsv\": brown, \"loc\": []}"
   ]
  },
  {
   "cell_type": "code",
   "execution_count": null,
   "metadata": {},
   "outputs": [],
   "source": [
    "field = {\n",
    "    \"ball\": ball,\n",
    "    \"goal1\": goal1,\n",
    "    \"goal2\": goal2,\n",
    "}"
   ]
  },
  {
   "cell_type": "markdown",
   "metadata": {},
   "source": [
    "Define what robots are in the game"
   ]
  },
  {
   "cell_type": "code",
   "execution_count": null,
   "metadata": {},
   "outputs": [],
   "source": [
    "robots = {\n",
    "    \"robot1\": robot1,\n",
    "    # \"robot2\": robot2\n",
    "}\n"
   ]
  },
  {
   "cell_type": "markdown",
   "metadata": {},
   "source": [
    "Define points class"
   ]
  },
  {
   "cell_type": "code",
   "execution_count": null,
   "metadata": {},
   "outputs": [],
   "source": [
    "class PointBuffer:\n",
    "    def __init__(self, buffer_size):\n",
    "        self.buffer = []\n",
    "        self.buffer_size = buffer_size\n",
    "\n",
    "    def update_buffer(self, new_x, new_y):\n",
    "        if isinstance(new_x, (int, float)) and isinstance(new_y, (int, float)):\n",
    "            self.buffer.append((new_x, new_y))\n",
    "            if len(self.buffer) > self.buffer_size:\n",
    "                self.buffer.pop(0)\n",
    "        else:\n",
    "            print(\"Invalid point: x or y is not a number\")\n",
    "\n",
    "    def calculate_median_point(self):\n",
    "        if not self.buffer:\n",
    "            return None, None\n",
    "\n",
    "        x_coords, y_coords = zip(*self.buffer)\n",
    "        median_x = np.median(x_coords)\n",
    "        median_y = np.median(y_coords)\n",
    "\n",
    "        return int(median_x), int(median_y)"
   ]
  },
  {
   "cell_type": "markdown",
   "metadata": {},
   "source": [
    "Define Game class"
   ]
  },
  {
   "cell_type": "code",
   "execution_count": null,
   "metadata": {},
   "outputs": [],
   "source": [
    "class Game:\n",
    "    def __init__(self):\n",
    "        self.attacking = False\n",
    "        self.deffending = False\n",
    "    \n",
    "    def set_attacking(self, value: bool):\n",
    "        self.attacking = value\n",
    "        self.deffending = not value\n",
    "    \n",
    "    def set_deffending(self, value: bool):\n",
    "        self.deffending = value\n",
    "        self.attacking = not value\n",
    "\n"
   ]
  },
  {
   "cell_type": "markdown",
   "metadata": {},
   "source": [
    "Define events in aseba"
   ]
  },
  {
   "cell_type": "code",
   "execution_count": null,
   "metadata": {},
   "outputs": [],
   "source": [
    "%%run_aseba\n",
    "\n",
    "onevent walk300\n",
    "  motor.left.target = 300\n",
    "  motor.right.target = 300\n",
    "  \n",
    "onevent walk200\n",
    "  motor.left.target = 200\n",
    "  motor.right.target = 200\n",
    "\n",
    "onevent walk100\n",
    "  motor.left.target = 100\n",
    "  motor.right.target = 100\n",
    "\n",
    "onevent walk50\n",
    "  motor.left.target = 50\n",
    "  motor.right.target = 50\n",
    "\n",
    "onevent left_turn\n",
    "  motor.left.target = 100\n",
    "  motor.right.target = -100\n",
    "\n",
    "onevent right_turn\n",
    "  motor.left.target = -100\n",
    "  motor.right.target = 100\n",
    "\n",
    "onevent stop\n",
    "  motor.left.target = 0\n",
    "  motor.right.target = 0"
   ]
  },
  {
   "cell_type": "code",
   "execution_count": null,
   "metadata": {},
   "outputs": [],
   "source": [
    "def move_to_point(angle_of_rotation, distance_to_point, rotation_threshold, distance_threshold):\n",
    "    # print(angle_of_rotation)\n",
    "    if ( abs(angle_of_rotation) > rotation_threshold) and (distance_to_point > distance_threshold):\n",
    "        # print(\"inside 1\", \" \", angle_of_rotation)\n",
    "        if(angle_of_rotation > 0):\n",
    "            print(\"direita\")\n",
    "            send_event(\"right_turn\")\n",
    "        else:\n",
    "            print(\"esquerda\")\n",
    "            send_event(\"left_turn\")\n",
    "    else:\n",
    "        # print(\"inside 2\")\n",
    "        if(distance_to_point > distance_threshold) :\n",
    "            print(\"andar\")\n",
    "            send_event(\"walk300\")\n",
    "        else:\n",
    "            send_event(\"stop\")"
   ]
  },
  {
   "cell_type": "markdown",
   "metadata": {},
   "source": [
    "Variables"
   ]
  },
  {
   "cell_type": "code",
   "execution_count": null,
   "metadata": {},
   "outputs": [],
   "source": [
    "COLOR_TOLERANCE: int = 20\n",
    "DIST_BALL: int = 15\n",
    "RT_TRESH: int = 20\n",
    "DT_TRESH: int = 20\n",
    "GOAL_DT_TRESH: int = 35\n"
   ]
  },
  {
   "cell_type": "code",
   "execution_count": null,
   "metadata": {},
   "outputs": [],
   "source": [
    "prev_shoot_x = None\n",
    "prev_shoot_y = None\n",
    "shooting: bool = False\n",
    "game: Game = Game.__init__()"
   ]
  },
  {
   "cell_type": "markdown",
   "metadata": {},
   "source": [
    "Control random noise"
   ]
  },
  {
   "cell_type": "code",
   "execution_count": null,
   "metadata": {},
   "outputs": [],
   "source": [
    "robot_front_buffer_size = 3\n",
    "robot_back_buffer_size = 3\n",
    "ball_buffer_size = 5\n",
    "shooting_point_buffer_size = 20\n",
    "goal1_buffer_size = 60\n",
    "goal2_buffer_size = 60\n",
    "\n",
    "robot_front_buffer = PointBuffer(robot_front_buffer_size)\n",
    "robot_back_buffer = PointBuffer(robot_back_buffer_size)\n",
    "ball_buffer = PointBuffer(ball_buffer_size)\n",
    "shooting_point_buffer = PointBuffer(shooting_point_buffer_size)\n",
    "goal1_buffer = PointBuffer(goal1_buffer_size)\n",
    "goal2_buffer = PointBuffer(goal2_buffer_size)"
   ]
  },
  {
   "cell_type": "code",
   "execution_count": null,
   "metadata": {},
   "outputs": [],
   "source": []
  },
  {
   "cell_type": "code",
   "execution_count": null,
   "metadata": {},
   "outputs": [],
   "source": []
  },
  {
   "cell_type": "code",
   "execution_count": null,
   "metadata": {},
   "outputs": [],
   "source": []
  },
  {
   "cell_type": "code",
   "execution_count": null,
   "metadata": {},
   "outputs": [],
   "source": [
    "cap = cv2.VideoCapture(1)"
   ]
  },
  {
   "cell_type": "code",
   "execution_count": null,
   "metadata": {},
   "outputs": [],
   "source": [
    "while True:\n",
    "    ret, frame = cap.read()\n",
    "    if not ret:\n",
    "        break\n",
    "    image = cv2.cvtColor(frame, cv2.COLOR_BGR2HSV)\n",
    "    matrix = np.zeros((image.shape[0], image.shape[1]), dtype=np.uint8)\n",
    "\n",
    "    cv2.imshow('real_frame', frame)\n",
    "    # Process each robot's front and back points\n",
    "    for robot, details in robots.items():\n",
    "        # Detect front points\n",
    "        f_lower_bound = np.array(details['f_hsv'][0])\n",
    "        f_upper_bound = np.array(details['f_hsv'][1])\n",
    "        front_coordinates = utils.detect_colored_dots_in_rgb(image, f_lower_bound, f_upper_bound)\n",
    "        robot_front_buffer.update_buffer(*utils.safe_get(front_coordinates, 0, [None, None]))\n",
    "\n",
    "        # Mark front points on the matrix\n",
    "        for coord in front_coordinates:\n",
    "            matrix[coord[0], coord[1]] = details['front']\n",
    "        \n",
    "        # Detect back points\n",
    "        b_lower_bound = np.array(details['b_hsv'][0])\n",
    "        b_upper_bound = np.array(details['b_hsv'][1])\n",
    "        back_coordinates = utils.detect_colored_dots_in_rgb(image, b_lower_bound, b_upper_bound)\n",
    "        robot_back_buffer.update_buffer(*utils.safe_get(front_coordinates, 0, [None, None]))\n",
    "\n",
    "\n",
    "        # Mark back points on the matrix\n",
    "        for coord in back_coordinates:\n",
    "            matrix[coord[0], coord[1]] = details['back']\n",
    "        \n",
    "\n",
    "\n",
    "    # Find the coordinates of goals and ball\n",
    "    for feature, details in field.items():\n",
    "        lower_bound = np.array(details['hsv'][0])\n",
    "        upper_bound = np.array(details['hsv'][1])\n",
    "        coordinates = utils.detect_colored_dots_in_rgb(image, lower_bound, upper_bound)\n",
    "        \n",
    "        match feature:\n",
    "            case 'ball':\n",
    "                ball_buffer.update_buffer(*utils.safe_get(coordinates, 0, [None, None]))\n",
    "            case 'goal1':\n",
    "                goal1_buffer.update_buffer(*utils.safe_get(coordinates, 0, [None, None]))\n",
    "            case 'goal2':\n",
    "                goal2_buffer.update_buffer(*utils.safe_get(coordinates, 0, [None, None]))\n",
    "            case default:\n",
    "                pass\n",
    "\n",
    "        for coord in coordinates:\n",
    "            matrix[coord[0], coord[1]] = details['center']\n",
    "            # print(feature, coord[0], coord[1], details['center'])\n",
    "    \n",
    "\n",
    "    #___________________________________________________________TEST_PART______________________________________\n",
    "\n",
    "    color_map = {\n",
    "        # 0: (0, 0, 0),       # Black (assuming 0 is the background or no dot)\n",
    "        1: (255, 0, 0),     # Red\n",
    "        2: (0, 255, 0),     # Green\n",
    "        3: (0, 0, 255),     # Blue\n",
    "        4: (255, 255, 0),   # Cyan\n",
    "        5: (255, 0, 255),   # Magenta\n",
    "        6: (0, 255, 255),   # Yellow\n",
    "        7: (255, 255, 255)  # White\n",
    "    }\n",
    "\n",
    "    # Create an empty frame with 3 color channels\n",
    "    colored_frame = np.zeros((matrix.shape[0], matrix.shape[1], 3), dtype=np.uint8)\n",
    "\n",
    "    # Draw colored circles in the frame based on matrix values\n",
    "    for y in range(matrix.shape[0]):\n",
    "        for x in range(matrix.shape[1]):\n",
    "            value = matrix[y, x]\n",
    "            if value in color_map:\n",
    "                cv2.circle(colored_frame, (x, y), 10, color_map[value], 14)  # Circle with radius 10\n",
    "    \n",
    "    colored_fast_frame = np.zeros((matrix.shape[0], matrix.shape[1], 3), dtype=np.uint8)\n",
    "\n",
    "\n",
    "    try:\n",
    "        median_front = robot_front_buffer.calculate_median_point()\n",
    "        median_back = robot_back_buffer.calculate_median_point()\n",
    "        median_ball = ball_buffer.calculate_median_point()\n",
    "        median_goal1 = goal1_buffer.calculate_median_point()\n",
    "        median_goal2 = goal2_buffer.calculate_median_point()\n",
    "\n",
    "        shoot_x_calc, shoot_y_calc = utils.ball_shooting_point(median_ball, median_goal2, DIST_BALL, False)\n",
    "        shooting_point_buffer.update_buffer(shoot_x_calc, shoot_y_calc)\n",
    "        median_shooting_point = shooting_point_buffer.calculate_median_point()\n",
    "        \n",
    "\n",
    "\n",
    "\n",
    "        cv2.line(colored_frame, median_shooting_point[::-1], median_goal2[::-1], (255, 255, 255))\n",
    "\n",
    "        cv2.line(colored_frame, median_back[::-1], median_shooting_point[::-1], (0, 255, 255))\n",
    "\n",
    "        r1x, r1y, r1orientation = utils.calculate_robot_position_and_orientation(matrix, median_front, median_back)\n",
    "        angle_of_rotation_sp = utils.get_angle_of_rotation((r1x, r1y, r1orientation), median_shooting_point)\n",
    "        # print(angle_of_rotation_sp)\n",
    "        dist_shoot_sp = utils.get_distance_between_two_points((r1x, r1y), median_shooting_point)\n",
    "        angle_of_rotation_defense = utils.get_angle_of_rotation((r1x, r1y, r1orientation), median_goal1)\n",
    "        dist_defense_sp = utils.get_distance_between_two_points((r1x, r1y), median_goal1)\n",
    "        print(angle_of_rotation_sp, dist_shoot_sp, shooting)\n",
    "        center_field = utils.find_midpoint(median_goal1, median_goal2)\n",
    "\n",
    "        if ball_fixed[1] < center_field[1]:\n",
    "            if dist_shoot_sp > DT_TRESH and not(game.shooting):\n",
    "                move_to_point(angle_of_rotation_sp, dist_shoot_sp, RT_TRESH, DT_TRESH)\n",
    "            else:\n",
    "                angle_of_rotation_ball = utils.get_angle_of_rotation((r1x, r1y, r1orientation), median_goal2)\n",
    "                dist_shoot_ball = utils.get_distance_between_two_points((r1x, r1y), ball_fixed)\n",
    "                move_to_point(angle_of_rotation_ball, dist_shoot_ball, RT_TRESH+10, DT_TRESH+10)\n",
    "        else:\n",
    "            if dist_defense_sp > GOAL_DT_TRESH and game.defending:\n",
    "                move_to_point(angle_of_rotation_defense, dist_defense_sp, RT_TRESH, GOAL_DT_TRESH)\n",
    "\n",
    "        if dist_shoot_sp < DT_TRESH and not(shooting):\n",
    "            game.set_shooting(True)\n",
    "            ball_fixed = median_ball\n",
    "            print(\"switching\")\n",
    "        \n",
    "\n",
    "            \n",
    "    except:\n",
    "        pass\n",
    "    colored_frame = cv2.cvtColor(colored_frame, cv2.COLOR_RGB2BGR)\n",
    "    # Display the frame\n",
    "    cv2.imshow('Frame', colored_frame)\n",
    "\n",
    "    colored_frame = cv2.cvtColor(colored_frame, cv2.COLOR_RGB2BGR)\n",
    "    # Display the frame\n",
    "    cv2.imshow('fast_frame', colored_fast_frame)\n",
    "\n",
    "    # Wait for 'q' key to quit\n",
    "    \n",
    "    if cv2.waitKey(1) & 0xFF == ord('q'):\n",
    "        break\n",
    "    #___________________________________________________________TEST_PART______________________________________\n",
    "    \n",
    "\n",
    "cv2.destroyAllWindows()"
   ]
  },
  {
   "cell_type": "code",
   "execution_count": null,
   "metadata": {},
   "outputs": [],
   "source": [
    "cap.release()"
   ]
  },
  {
   "cell_type": "code",
   "execution_count": null,
   "metadata": {},
   "outputs": [],
   "source": [
    "send_event(\"stop\")"
   ]
  },
  {
   "cell_type": "code",
   "execution_count": null,
   "metadata": {},
   "outputs": [],
   "source": []
  },
  {
   "cell_type": "code",
   "execution_count": null,
   "metadata": {},
   "outputs": [],
   "source": []
  }
 ],
 "metadata": {
  "kernelspec": {
   "display_name": "env",
   "language": "python",
   "name": "python3"
  },
  "language_info": {
   "codemirror_mode": {
    "name": "ipython",
    "version": 3
   },
   "file_extension": ".py",
   "mimetype": "text/x-python",
   "name": "python",
   "nbconvert_exporter": "python",
   "pygments_lexer": "ipython3",
   "version": "3.11.6"
  }
 },
 "nbformat": 4,
 "nbformat_minor": 2
}
